{
 "cells": [
  {
   "cell_type": "code",
   "execution_count": 4,
   "id": "43848a05",
   "metadata": {},
   "outputs": [],
   "source": [
    "import cv2\n",
    "import os\n",
    "import numpy as np"
   ]
  },
  {
   "cell_type": "code",
   "execution_count": 5,
   "id": "db2558d0",
   "metadata": {},
   "outputs": [],
   "source": [
    "from tensorflow.keras.preprocessing.image import img_to_array\n",
    "from tensorflow.keras.models import load_model\n",
    "from tensorflow.keras.applications.mobilenet_v2 import preprocess_input"
   ]
  },
  {
   "cell_type": "code",
   "execution_count": 9,
   "id": "af5f8452",
   "metadata": {},
   "outputs": [],
   "source": [
    "face_classifier = cv2.CascadeClassifier(\n",
    "    cv2.data.haarcascades + \"haarcascade_frontalface_default.xml\"\n",
    ")\n",
    "\n",
    "from tensorflow.keras.models import load_model\n",
    "model = load_model('C:/Users/USER/Desktop/Assignment 2 file/Code/run/Model 1')\n",
    "\n",
    "video_capture = cv2.VideoCapture(0)\n",
    "\n",
    "def detect_bounding_box(vid):\n",
    "    gray_image = cv2.cvtColor(vid, cv2.COLOR_BGR2GRAY)\n",
    "    faces = face_classifier.detectMultiScale(gray_image, 1.1, 5, minSize=(40, 40))\n",
    "    for (x, y, w, h) in faces:\n",
    "        cv2.rectangle(vid, (x, y), (x + w, y + h), (255, 0, 0), 3)\n",
    "        crop_image = vid[y:y+h, x:x+w]\n",
    "        resize_img = cv2.resize(crop_image, (227, 227))\n",
    "        resize_img = cv2.cvtColor(resize_img, cv2.COLOR_BGR2RGB)\n",
    "        predictions = model.predict(np.array([resize_img]), verbose=0)\n",
    "        binary_prediction = (predictions > 0.5).astype(int)\n",
    "        \n",
    "        label = \"Mask Worn\" if binary_prediction == 0 else \"No Mask\"\n",
    "        color = (0, 255, 0) if binary_prediction == 0 else (255, 0, 0)\n",
    "        \n",
    "        cv2.putText(vid, label, (x, y+h+25), cv2.FONT_HERSHEY_SIMPLEX, 0.75, color, 2, cv2.LINE_AA)\n",
    "    \n",
    "    return faces\n",
    "\n",
    "while True:\n",
    "    result, video_frame = video_capture.read()\n",
    "    if not result:\n",
    "        break\n",
    "\n",
    "    faces = detect_bounding_box(video_frame)\n",
    "\n",
    "    cv2.imshow(\"Face Mask Detection\", video_frame)\n",
    "\n",
    "    key = cv2.waitKey(10)\n",
    "    if key == 27:  # The Esc key\n",
    "        break\n",
    "\n",
    "video_capture.release()\n",
    "cv2.destroyAllWindows()\n"
   ]
  },
  {
   "cell_type": "code",
   "execution_count": null,
   "id": "1f8ef940",
   "metadata": {},
   "outputs": [],
   "source": []
  }
 ],
 "metadata": {
  "kernelspec": {
   "display_name": "cvpr tf2.4 py3.8",
   "language": "python",
   "name": "cvpr"
  },
  "language_info": {
   "codemirror_mode": {
    "name": "ipython",
    "version": 3
   },
   "file_extension": ".py",
   "mimetype": "text/x-python",
   "name": "python",
   "nbconvert_exporter": "python",
   "pygments_lexer": "ipython3",
   "version": "3.8.17"
  }
 },
 "nbformat": 4,
 "nbformat_minor": 5
}
